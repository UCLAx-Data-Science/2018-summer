{
 "cells": [
  {
   "cell_type": "markdown",
   "metadata": {},
   "source": [
    "# <booktitle>UCLA Data Science Intensive</booktitle>\n",
    "\n",
    "<author>Joshua Cook</author>"
   ]
  },
  {
   "cell_type": "markdown",
   "metadata": {},
   "source": [
    "## Introductory Lectures"
   ]
  },
  {
   "cell_type": "markdown",
   "metadata": {},
   "source": [
    "<include type=\"notebook\" url=\"ipynb/lecture-02-vectors-and-matrices.ipynb\">\n",
    "  <a href=\"ipynb/lecture-02-vectors-and-matrices.ipynb\">Vectors and Matrices</a>\n",
    "</include>"
   ]
  },
  {
   "cell_type": "markdown",
   "metadata": {},
   "source": [
    "<include type=\"notebook\" url=\"ipynb/lecture-03-statistical-learning.ipynb\">\n",
    "  <a href=\"ipynb/lecture-03-statistical-learning.ipynb\">Statistical Learning</a>\n",
    "</include>"
   ]
  },
  {
   "cell_type": "markdown",
   "metadata": {},
   "source": [
    "<include type=\"notebook\" url=\"ipynb/lecture-06-model-accuracy.ipynb\">\n",
    "  <a href=\"ipynb/lecture-06-model-accuracy.ipynb\">The Bias-Variance Tradeoff</a>\n",
    "</include>"
   ]
  },
  {
   "cell_type": "markdown",
   "metadata": {},
   "source": [
    "<include type=\"notebook\" url=\"ipynb/lecture-07-probability.ipynb\">\n",
    "  <a href=\"ipynb/lecture-07-probability.ipynb\">Probability</a>\n",
    "</include>"
   ]
  },
  {
   "cell_type": "markdown",
   "metadata": {},
   "source": [
    "<include type=\"notebook\" url=\"ipynb/lecture-08-probabilistic-model-selection.ipynb\">\n",
    "  <a href=\"ipynb/lecture-08-probabilistic-model-selection.ipynb\">Probabilistic Model Selection</a>\n",
    "</include>"
   ]
  },
  {
   "cell_type": "markdown",
   "metadata": {},
   "source": [
    "<include type=\"notebook\" url=\"ipynb/lecture-09-masks-to-create-a-vector.ipynb\">\n",
    "  <a href=\"ipynb/lecture-09-masks-to-create-a-vector.ipynb\">Using Masks to Create a Vector</a>\n",
    "</include>"
   ]
  },
  {
   "cell_type": "markdown",
   "metadata": {},
   "source": [
    "<include type=\"notebook\" url=\"ipynb/lecture-10-the-curse-of-dimensionality.ipynb\">\n",
    "  <a href=\"ipynb/lecture-10-the-curse-of-dimensionality.ipynb\">The Curse of Dimensionality</a>\n",
    "</include>"
   ]
  },
  {
   "cell_type": "markdown",
   "metadata": {},
   "source": [
    "<include type=\"notebook\" url=\"ipynb/lecture-11-the-bias-variance-tradeoff.ipynb\">\n",
    "  <a href=\"ipynb/lecture-11-the-bias-variance-tradeoff.ipynb\">The Bias-Variance Tradeoff Revisited</a>\n",
    "</include>"
   ]
  },
  {
   "cell_type": "markdown",
   "metadata": {},
   "source": [
    "## Configuring AWS"
   ]
  },
  {
   "cell_type": "markdown",
   "metadata": {},
   "source": [
    "In this first chapter, you will configure your local system and create an AWS instance in order to do data science work. To do this work, you will use the containerization technology Docker in order to streamline the work of configuring and provisioning your data science platform. You will use Docker Compose to manage the platform and its two containers and rely on Amazon Web Services (AWS) to manage your hardware."
   ]
  },
  {
   "cell_type": "markdown",
   "metadata": {},
   "source": [
    "If you have your own Jupyter Notebook setup previously installed, feel free to use it, in which case, it is not necessary to work through this first chapter. "
   ]
  },
  {
   "cell_type": "markdown",
   "metadata": {},
   "source": [
    "<include type=\"notebook\" url=\"ipynb/getting_started.ipynb\">\n",
    "  <a href=\"ipynb/getting_started.ipynb\">Chapter 2 Notebook</a>\n",
    "</include>"
   ]
  }
 ],
 "metadata": {
  "kernelspec": {
   "display_name": "Python 3",
   "language": "python",
   "name": "python3"
  },
  "language_info": {
   "codemirror_mode": {
    "name": "ipython",
    "version": 3
   },
   "file_extension": ".py",
   "mimetype": "text/x-python",
   "name": "python",
   "nbconvert_exporter": "python",
   "pygments_lexer": "ipython3",
   "version": "3.6.6"
  }
 },
 "nbformat": 4,
 "nbformat_minor": 2
}
